{
 "cells": [
  {
   "cell_type": "code",
   "execution_count": 1,
   "id": "4d220b71",
   "metadata": {},
   "outputs": [],
   "source": [
    "import selenium\n",
    "import pandas as pd\n",
    "import time\n",
    "from selenium import webdriver\n",
    "from selenium.common.exceptions import NoSuchElementException,ElementClickInterceptedException, ElementNotVisibleException\n",
    "from selenium.webdriver.common.keys import Keys\n",
    "from selenium.webdriver.common.action_chains import ActionChains\n",
    "from selenium.webdriver.support.ui import WebDriverWait\n",
    "from selenium.webdriver.support import expected_conditions as EC\n",
    "from selenium.webdriver.common.by import By\n",
    "import warnings\n",
    "warnings.filterwarnings('ignore')"
   ]
  },
  {
   "cell_type": "code",
   "execution_count": 2,
   "id": "af5a27ec",
   "metadata": {},
   "outputs": [],
   "source": [
    "driver=webdriver.Chrome(\"E:\\chromedriver.exe\")"
   ]
  },
  {
   "cell_type": "code",
   "execution_count": 3,
   "id": "6865b1ad",
   "metadata": {},
   "outputs": [],
   "source": [
    "url = \"https://flight.easemytrip.com/FlightList/Index?srch=DEL-Delhi-India|BOM-Mumbai-India|26/08/2022&px=1-0-0&cbn=0&ar=undefined&isow=true&isdm=true&lang=&&IsDoubleSeat=false&CCODE=IN\"\n",
    "driver.get(url)\n",
    "time.sleep(3)"
   ]
  },
  {
   "cell_type": "code",
   "execution_count": 4,
   "id": "1af44b79",
   "metadata": {},
   "outputs": [],
   "source": [
    "city_lst = ['New Delhi', 'Mumbai', 'Bangalore', 'Chennai','Hyderabad ','Kolkata ','Jaipur ','Lucknow ']"
   ]
  },
  {
   "cell_type": "markdown",
   "id": "86081f83",
   "metadata": {},
   "source": [
    "# For Economy class"
   ]
  },
  {
   "cell_type": "code",
   "execution_count": 128,
   "id": "92c15d11",
   "metadata": {},
   "outputs": [],
   "source": [
    "airline_name=[]\n",
    "depart_arr_time = []\n",
    "duration=[]\n",
    "source_des = []\n",
    "price=[]\n",
    "class_=[]"
   ]
  },
  {
   "cell_type": "code",
   "execution_count": 130,
   "id": "17df0732",
   "metadata": {},
   "outputs": [],
   "source": [
    "for x in city_lst:\n",
    "    for y in city_lst:\n",
    "        if x!=y:            \n",
    "            source = driver.find_element_by_xpath(\"/html/body/form/div[9]/div[2]/div/div[4]/div/div/div[1]/div/div[1]/div[1]/div[3]/input[2]\")\n",
    "            time.sleep(2)\n",
    "            source.clear() \n",
    "            source.send_keys(x)\n",
    "            time.sleep(2)\n",
    "            \n",
    "            destination = driver.find_element_by_xpath(\"/html/body/form/div[9]/div[2]/div/div[4]/div/div/div[1]/div/div[1]/div[1]/div[5]/input[2]\")\n",
    "            time.sleep(2)\n",
    "            destination.click()\n",
    "            destination.clear()\n",
    "            time.sleep(2)\n",
    "            destination.send_keys(y)\n",
    "            time.sleep(2)\n",
    "            \n",
    "            try:\n",
    "                driver.find_element_by_xpath(\"/html/body/form/div[9]/div[2]/div/div[4]/div/div/div[1]/div/div[1]/div[3]/button[1]\").click()\n",
    "            except NoSuchElementException:\n",
    "                pass\n",
    "            \n",
    "           \n",
    "            for _ in range(15):\n",
    "                time.sleep(1)\n",
    "                driver.execute_script(\"window.scrollBy(0,5000)\")\n",
    "                time.sleep(5)\n",
    "\n",
    "            \n",
    "        \n",
    "           #fetching name of airline\n",
    "            try:\n",
    "                for i in driver.find_elements_by_xpath(\"//span[@class='txt-r4 ng-binding']\"):\n",
    "                    airline_name.append(i.text)\n",
    "            except NoSuchElementException:\n",
    "                pass\n",
    "            #time of depart\n",
    "            try:\n",
    "                for i in driver.find_elements_by_xpath(\"//span[@class='txt-r2-n ng-binding']\"):\n",
    "                    depart_arr_time.append(i.text)                 \n",
    "            except NoSuchElementException:\n",
    "                pass\n",
    "            \n",
    "            #duration\n",
    "            try:\n",
    "                for i in driver.find_elements_by_xpath(\"//div[@class='col-md-2 col-sm-2 col-xs-5 non-st']\"):\n",
    "                    duration.append(i.text)                           \n",
    "            except NoSuchElementException:\n",
    "                pass\n",
    "            #number of stops\n",
    "           \n",
    "            try:\n",
    "                for i in driver.find_elements_by_xpath(\"//div[@class='col-md-8 col-sm-8 col-xs-9 txt-r6-n exPrc ng-binding']\"):\n",
    "                    price.append(i.text)\n",
    "            except NoSuchElementException:\n",
    "                pass\n",
    "            \n",
    "            try:\n",
    "                for i in driver.find_elements_by_xpath(\"//span[@class='txt-r3-n ng-binding']\"):\n",
    "                    source_des.append(i.text)\n",
    "            except NoSuchElementException:\n",
    "                pass\n",
    "            "
   ]
  },
  {
   "cell_type": "code",
   "execution_count": 131,
   "id": "2c6fb1f3",
   "metadata": {},
   "outputs": [
    {
     "name": "stdout",
     "output_type": "stream",
     "text": [
      "5953 11906 5953 5953 11906\n"
     ]
    }
   ],
   "source": [
    "print(len(airline_name),len(depart_arr_time),len(duration),len(price),len(source_des))"
   ]
  },
  {
   "cell_type": "code",
   "execution_count": 153,
   "id": "ea300581",
   "metadata": {},
   "outputs": [],
   "source": [
    "class_=[]\n",
    "for i in range(0,5953):\n",
    "    class_.append(\"Economy\")"
   ]
  },
  {
   "cell_type": "code",
   "execution_count": 139,
   "id": "90a3b7a8",
   "metadata": {},
   "outputs": [],
   "source": [
    "import joblib"
   ]
  },
  {
   "cell_type": "code",
   "execution_count": 143,
   "id": "c1a41809",
   "metadata": {},
   "outputs": [
    {
     "data": {
      "text/plain": [
       "['airline_name.pkl']"
      ]
     },
     "execution_count": 143,
     "metadata": {},
     "output_type": "execute_result"
    }
   ],
   "source": [
    "joblib.dump(airline_name,'airline_name.pkl')"
   ]
  },
  {
   "cell_type": "code",
   "execution_count": 144,
   "id": "0866bd88",
   "metadata": {},
   "outputs": [
    {
     "data": {
      "text/plain": [
       "['depart_arr_time.pkl']"
      ]
     },
     "execution_count": 144,
     "metadata": {},
     "output_type": "execute_result"
    }
   ],
   "source": [
    "joblib.dump(depart_arr_time,'depart_arr_time.pkl')"
   ]
  },
  {
   "cell_type": "code",
   "execution_count": 145,
   "id": "45444353",
   "metadata": {},
   "outputs": [
    {
     "data": {
      "text/plain": [
       "['duration.pkl']"
      ]
     },
     "execution_count": 145,
     "metadata": {},
     "output_type": "execute_result"
    }
   ],
   "source": [
    "joblib.dump(duration,'duration.pkl')"
   ]
  },
  {
   "cell_type": "code",
   "execution_count": 146,
   "id": "c1f88629",
   "metadata": {},
   "outputs": [
    {
     "data": {
      "text/plain": [
       "['price.pkl']"
      ]
     },
     "execution_count": 146,
     "metadata": {},
     "output_type": "execute_result"
    }
   ],
   "source": [
    "joblib.dump(price,'price.pkl')"
   ]
  },
  {
   "cell_type": "code",
   "execution_count": 147,
   "id": "76b32568",
   "metadata": {},
   "outputs": [
    {
     "data": {
      "text/plain": [
       "['source_des.pkl']"
      ]
     },
     "execution_count": 147,
     "metadata": {},
     "output_type": "execute_result"
    }
   ],
   "source": [
    "joblib.dump(source_des,'source_des.pkl')"
   ]
  },
  {
   "cell_type": "code",
   "execution_count": 155,
   "id": "faaa38fb",
   "metadata": {},
   "outputs": [
    {
     "data": {
      "text/plain": [
       "['class.pkl']"
      ]
     },
     "execution_count": 155,
     "metadata": {},
     "output_type": "execute_result"
    }
   ],
   "source": [
    "joblib.dump(class_,\"class.pkl\")"
   ]
  },
  {
   "cell_type": "markdown",
   "id": "587f46a5",
   "metadata": {},
   "source": [
    "# For business class"
   ]
  },
  {
   "cell_type": "code",
   "execution_count": 5,
   "id": "a0595b0b",
   "metadata": {},
   "outputs": [],
   "source": [
    "airline_name_b=[]\n",
    "depart_arr_time_b = []\n",
    "duration_b=[]\n",
    "source_des_b = []\n",
    "price_b=[]\n",
    "class_b=[]"
   ]
  },
  {
   "cell_type": "code",
   "execution_count": 6,
   "id": "4779b309",
   "metadata": {},
   "outputs": [],
   "source": [
    "for x in city_lst:\n",
    "    for y in city_lst:\n",
    "        if x!=y:            \n",
    "            source = driver.find_element_by_xpath(\"/html/body/form/div[9]/div[2]/div/div[4]/div/div/div[1]/div/div[1]/div[1]/div[3]/input[2]\")\n",
    "            time.sleep(2)\n",
    "            source.clear() \n",
    "            source.send_keys(x)\n",
    "            time.sleep(2)\n",
    "            \n",
    "            destination = driver.find_element_by_xpath(\"/html/body/form/div[9]/div[2]/div/div[4]/div/div/div[1]/div/div[1]/div[1]/div[5]/input[2]\")\n",
    "            time.sleep(2)\n",
    "            destination.click()\n",
    "            destination.clear()\n",
    "            time.sleep(2)\n",
    "            destination.send_keys(y)\n",
    "            time.sleep(2)\n",
    "            \n",
    "            cla=driver.find_element_by_xpath(\"/html/body/form/div[9]/div[2]/div/div[4]/div/div/div[1]/div/div[1]/div[2]/div[4]/select\")\n",
    "            cla.click()\n",
    "            \n",
    "            try:\n",
    "                driver.find_element_by_xpath(\"/html/body/form/div[9]/div[2]/div/div[4]/div/div/div[1]/div/div[1]/div[3]/button[1]\").click()\n",
    "            except NoSuchElementException:\n",
    "                pass\n",
    "            \n",
    "           \n",
    "            for _ in range(15):\n",
    "                time.sleep(1)\n",
    "                driver.execute_script(\"window.scrollBy(0,5000)\")\n",
    "                time.sleep(5)\n",
    "\n",
    "            \n",
    "        \n",
    "           #fetching name of airline\n",
    "            try:\n",
    "                for i in driver.find_elements_by_xpath(\"//span[@class='txt-r4 ng-binding']\"):\n",
    "                    airline_name_b.append(i.text)\n",
    "            except NoSuchElementException:\n",
    "                pass\n",
    "            #time of depart\n",
    "            try:\n",
    "                for i in driver.find_elements_by_xpath(\"//span[@class='txt-r2-n ng-binding']\"):\n",
    "                    depart_arr_time_b.append(i.text)                 \n",
    "            except NoSuchElementException:\n",
    "                pass\n",
    "            \n",
    "            #duration\n",
    "            try:\n",
    "                for i in driver.find_elements_by_xpath(\"//div[@class='col-md-2 col-sm-2 col-xs-5 non-st']\"):\n",
    "                    duration_b.append(i.text)                           \n",
    "            except NoSuchElementException:\n",
    "                pass\n",
    "            #number of stops\n",
    "           \n",
    "            try:\n",
    "                for i in driver.find_elements_by_xpath(\"//div[@class='col-md-8 col-sm-8 col-xs-9 txt-r6-n exPrc ng-binding']\"):\n",
    "                    price_b.append(i.text)\n",
    "            except NoSuchElementException:\n",
    "                pass\n",
    "            \n",
    "            try:\n",
    "                for i in driver.find_elements_by_xpath(\"//span[@class='txt-r3-n ng-binding']\"):\n",
    "                    source_des_b.append(i.text)\n",
    "            except NoSuchElementException:\n",
    "                pass\n",
    "            "
   ]
  },
  {
   "cell_type": "code",
   "execution_count": 7,
   "id": "4e1805ec",
   "metadata": {},
   "outputs": [
    {
     "name": "stdout",
     "output_type": "stream",
     "text": [
      "2993 5986 2993 2993 5986\n"
     ]
    }
   ],
   "source": [
    "print(len(airline_name_b),len(depart_arr_time_b),len(duration_b),len(price_b),len(source_des_b))"
   ]
  },
  {
   "cell_type": "code",
   "execution_count": 13,
   "id": "35d16a16",
   "metadata": {},
   "outputs": [],
   "source": [
    "for i in range(0,2993):\n",
    "    class_b.append(\"Business\")"
   ]
  },
  {
   "cell_type": "code",
   "execution_count": 17,
   "id": "aac089d0",
   "metadata": {},
   "outputs": [],
   "source": [
    "import joblib"
   ]
  },
  {
   "cell_type": "code",
   "execution_count": 18,
   "id": "ac77b9d9",
   "metadata": {},
   "outputs": [
    {
     "data": {
      "text/plain": [
       "['class_b.pkl']"
      ]
     },
     "execution_count": 18,
     "metadata": {},
     "output_type": "execute_result"
    }
   ],
   "source": [
    "joblib.dump(airline_name_b,'airline_name_b.pkl')\n",
    "joblib.dump(depart_arr_time_b,'depart_arr_time_b.pkl')\n",
    "joblib.dump(duration_b,'duration_b.pkl')\n",
    "joblib.dump(price_b,'price_b.pkl')\n",
    "joblib.dump(source_des_b,'source_des_b.pkl')\n",
    "joblib.dump(class_b,\"class_b.pkl\")"
   ]
  },
  {
   "cell_type": "code",
   "execution_count": null,
   "id": "6549f072",
   "metadata": {},
   "outputs": [],
   "source": []
  },
  {
   "cell_type": "code",
   "execution_count": null,
   "id": "73c92de8",
   "metadata": {},
   "outputs": [],
   "source": []
  },
  {
   "cell_type": "code",
   "execution_count": null,
   "id": "aafb28b9",
   "metadata": {},
   "outputs": [],
   "source": []
  },
  {
   "cell_type": "code",
   "execution_count": null,
   "id": "5fb01104",
   "metadata": {},
   "outputs": [],
   "source": []
  },
  {
   "cell_type": "code",
   "execution_count": null,
   "id": "a762fc0c",
   "metadata": {},
   "outputs": [],
   "source": []
  },
  {
   "cell_type": "code",
   "execution_count": null,
   "id": "27815907",
   "metadata": {},
   "outputs": [],
   "source": []
  },
  {
   "cell_type": "code",
   "execution_count": null,
   "id": "fdf95c3f",
   "metadata": {},
   "outputs": [],
   "source": []
  },
  {
   "cell_type": "code",
   "execution_count": null,
   "id": "e2d3920b",
   "metadata": {},
   "outputs": [],
   "source": []
  },
  {
   "cell_type": "code",
   "execution_count": null,
   "id": "a4fc0c3d",
   "metadata": {},
   "outputs": [],
   "source": []
  },
  {
   "cell_type": "code",
   "execution_count": null,
   "id": "4502e5e9",
   "metadata": {},
   "outputs": [],
   "source": []
  },
  {
   "cell_type": "code",
   "execution_count": null,
   "id": "c51a53ce",
   "metadata": {},
   "outputs": [],
   "source": []
  },
  {
   "cell_type": "code",
   "execution_count": null,
   "id": "13ea3de5",
   "metadata": {},
   "outputs": [],
   "source": []
  },
  {
   "cell_type": "code",
   "execution_count": null,
   "id": "cc467826",
   "metadata": {},
   "outputs": [],
   "source": []
  },
  {
   "cell_type": "code",
   "execution_count": null,
   "id": "bc0a3b35",
   "metadata": {},
   "outputs": [],
   "source": []
  },
  {
   "cell_type": "code",
   "execution_count": null,
   "id": "7bb3c968",
   "metadata": {},
   "outputs": [],
   "source": []
  },
  {
   "cell_type": "code",
   "execution_count": null,
   "id": "7d70c834",
   "metadata": {},
   "outputs": [],
   "source": []
  },
  {
   "cell_type": "code",
   "execution_count": null,
   "id": "54636851",
   "metadata": {},
   "outputs": [],
   "source": []
  },
  {
   "cell_type": "code",
   "execution_count": null,
   "id": "0eadf32a",
   "metadata": {},
   "outputs": [],
   "source": []
  },
  {
   "cell_type": "code",
   "execution_count": null,
   "id": "6609d2e3",
   "metadata": {},
   "outputs": [],
   "source": []
  },
  {
   "cell_type": "code",
   "execution_count": null,
   "id": "652c5c63",
   "metadata": {},
   "outputs": [],
   "source": []
  },
  {
   "cell_type": "code",
   "execution_count": null,
   "id": "b9fbabf5",
   "metadata": {},
   "outputs": [],
   "source": []
  },
  {
   "cell_type": "code",
   "execution_count": null,
   "id": "faa2e894",
   "metadata": {},
   "outputs": [],
   "source": []
  },
  {
   "cell_type": "code",
   "execution_count": null,
   "id": "1c22a1a0",
   "metadata": {},
   "outputs": [],
   "source": []
  }
 ],
 "metadata": {
  "kernelspec": {
   "display_name": "Python 3 (ipykernel)",
   "language": "python",
   "name": "python3"
  },
  "language_info": {
   "codemirror_mode": {
    "name": "ipython",
    "version": 3
   },
   "file_extension": ".py",
   "mimetype": "text/x-python",
   "name": "python",
   "nbconvert_exporter": "python",
   "pygments_lexer": "ipython3",
   "version": "3.9.7"
  }
 },
 "nbformat": 4,
 "nbformat_minor": 5
}
